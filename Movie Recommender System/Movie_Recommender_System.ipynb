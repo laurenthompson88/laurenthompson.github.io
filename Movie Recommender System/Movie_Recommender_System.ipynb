{
 "cells": [
  {
   "cell_type": "markdown",
   "id": "b51ba625",
   "metadata": {},
   "source": [
    "## Lauren Thompson\n",
    "## Recommender System"
   ]
  },
  {
   "cell_type": "markdown",
   "id": "2abee5b2",
   "metadata": {},
   "source": [
    "Exercise: Using the small MovieLens data set, create a recommender system that allows users to input a movie they like (in the data set) and recommends ten other movies for them to watch. In your write-up, clearly explain the recommender system process and all steps performed. If you are using a method found online, be sure to reference the source."
   ]
  },
  {
   "cell_type": "code",
   "execution_count": 1,
   "id": "bef3390d",
   "metadata": {},
   "outputs": [],
   "source": [
    "# Imports and Read-ins\n",
    "import pandas as pd\n",
    "from sklearn.model_selection import train_test_split\n",
    "from surprise import Reader, Dataset, SVD\n",
    "from surprise.model_selection import cross_validate\n",
    "\n",
    "\n",
    "ratings = pd.read_csv('ratings.csv')\n",
    "movies = pd.read_csv('movies.csv')\n"
   ]
  },
  {
   "cell_type": "code",
   "execution_count": 2,
   "id": "57eb1079",
   "metadata": {},
   "outputs": [
    {
     "name": "stdout",
     "output_type": "stream",
     "text": [
      "<class 'pandas.core.frame.DataFrame'>\n",
      "RangeIndex: 100836 entries, 0 to 100835\n",
      "Data columns (total 4 columns):\n",
      " #   Column     Non-Null Count   Dtype  \n",
      "---  ------     --------------   -----  \n",
      " 0   userId     100836 non-null  int64  \n",
      " 1   movieId    100836 non-null  int64  \n",
      " 2   rating     100836 non-null  float64\n",
      " 3   timestamp  100836 non-null  int64  \n",
      "dtypes: float64(1), int64(3)\n",
      "memory usage: 3.1 MB\n",
      "<class 'pandas.core.frame.DataFrame'>\n",
      "RangeIndex: 9742 entries, 0 to 9741\n",
      "Data columns (total 3 columns):\n",
      " #   Column   Non-Null Count  Dtype \n",
      "---  ------   --------------  ----- \n",
      " 0   movieId  9742 non-null   int64 \n",
      " 1   title    9742 non-null   object\n",
      " 2   genres   9742 non-null   object\n",
      "dtypes: int64(1), object(2)\n",
      "memory usage: 228.5+ KB\n"
     ]
    }
   ],
   "source": [
    "# Checking for nulls and duplicates\n",
    "ratings.info()\n",
    "movies.info()\n",
    "ratings[ratings.duplicated()==True]\n",
    "movies[movies.duplicated()==True]\n",
    "\n",
    "# Data frame prep\n",
    "movies['title without year'] = movies['title'].apply( lambda x: x.split(' (')[0])\n",
    "same_name_titles = movies[movies['title without year'].duplicated() == True]\n",
    "\n",
    "data = pd.merge(ratings, movies, on='movieId')"
   ]
  },
  {
   "cell_type": "code",
   "execution_count": 3,
   "id": "eee4e969",
   "metadata": {},
   "outputs": [],
   "source": [
    "train_data, test_data = train_test_split(data, test_size=0.2, random_state=42)"
   ]
  },
  {
   "cell_type": "code",
   "execution_count": 4,
   "id": "092a3882",
   "metadata": {},
   "outputs": [
    {
     "name": "stdout",
     "output_type": "stream",
     "text": [
      "Evaluating RMSE, MAE of algorithm SVD on 5 split(s).\n",
      "\n",
      "                  Fold 1  Fold 2  Fold 3  Fold 4  Fold 5  Mean    Std     \n",
      "RMSE (testset)    0.8725  0.8848  0.8827  0.8791  0.8878  0.8814  0.0053  \n",
      "MAE (testset)     0.6707  0.6831  0.6827  0.6765  0.6812  0.6788  0.0047  \n",
      "Fit time          0.60    0.64    0.56    0.64    0.65    0.62    0.03    \n",
      "Test time         0.12    0.06    0.11    0.06    0.11    0.09    0.03    \n"
     ]
    },
    {
     "data": {
      "text/plain": [
       "{'test_rmse': array([0.87247018, 0.88483864, 0.88274021, 0.87912735, 0.88780115]),\n",
       " 'test_mae': array([0.67073439, 0.683131  , 0.68269739, 0.67645237, 0.68120867]),\n",
       " 'fit_time': (0.6043682098388672,\n",
       "  0.6388342380523682,\n",
       "  0.5597271919250488,\n",
       "  0.6359059810638428,\n",
       "  0.6534168720245361),\n",
       " 'test_time': (0.12056422233581543,\n",
       "  0.05529665946960449,\n",
       "  0.11032509803771973,\n",
       "  0.06118512153625488,\n",
       "  0.11045193672180176)}"
      ]
     },
     "execution_count": 4,
     "metadata": {},
     "output_type": "execute_result"
    }
   ],
   "source": [
    "# Create a Reader object to parse the ratings data, build SVD model, cross validate\n",
    "reader = Reader(rating_scale=(0.5, 5))\n",
    "train_dataset = Dataset.load_from_df(train_data[['userId', 'movieId', 'rating']], reader)\n",
    "model = SVD()\n",
    "cross_validate(model, train_dataset, measures=['RMSE', 'MAE'], cv=5, verbose=True)"
   ]
  },
  {
   "cell_type": "code",
   "execution_count": 5,
   "id": "a6b8d91f",
   "metadata": {},
   "outputs": [],
   "source": [
    "# parameters user movie title, SVD model, movie df, merged df, user ID, top 10\n",
    "# locates movie id from id, gets ratings\n",
    "# predicts rating for all movies in data based on user id ratings and sorts them to pull top 10 via lsit\n",
    "# returns list\n",
    "def movie_recommendations(movie_title, model, movies, data, user, n=10):\n",
    "    movie_id = movies[(movies['title'] == movie_title) | (movies['title without year'] == movie_title)]['movieId'].iloc[0]\n",
    "    movie_ratings = data[data['movieId'] == movie_id]\n",
    "    \n",
    "    predictions = []\n",
    "    for movie_id in data['movieId'].unique():\n",
    "        prediction = model.predict(user, movie_id)\n",
    "        predictions.append((movie_id, prediction.est))\n",
    "    predictions.sort(key=lambda x: x[1], reverse=True)\n",
    "    \n",
    "    recommended_movies = []\n",
    "    for movie_id, _ in predictions[:10]:\n",
    "        recommended_movie = movies[movies['movieId'] == movie_id]['title'].iloc[0]\n",
    "        recommended_movies.append(recommended_movie)\n",
    "    return recommended_movies"
   ]
  },
  {
   "cell_type": "code",
   "execution_count": 6,
   "id": "856bda10",
   "metadata": {},
   "outputs": [
    {
     "name": "stdout",
     "output_type": "stream",
     "text": [
      "Enter user ID: 1\n",
      "Enter Title: Sabrina\n",
      "Multiple titles with that name, year needed\n",
      "    \n",
      "Example: Sabrina (1995)\n",
      "    \n",
      "Please enter title and year: Sabrina (1995)\n",
      "Top 10 recommended movies based on 'Sabrina (1995)':\n",
      "\n",
      "Monty Python and the Holy Grail (1975)\n",
      "\n",
      "Princess Bride, The (1987)\n",
      "\n",
      "Goodfellas (1990)\n",
      "\n",
      "Back to the Future (1985)\n",
      "\n",
      "Shawshank Redemption, The (1994)\n",
      "\n",
      "Departed, The (2006)\n",
      "\n",
      "Seven Samurai (Shichinin no samurai) (1954)\n",
      "\n",
      "Dr. Strangelove or: How I Learned to Stop Worrying and Love the Bomb (1964)\n",
      "\n",
      "Spirited Away (Sen to Chihiro no kamikakushi) (2001)\n",
      "\n",
      "Graduate, The (1967)\n"
     ]
    }
   ],
   "source": [
    "# User Input needed\n",
    "user = int(input('Enter user ID: '))\n",
    "liked_movie = input('Enter Title: ').title()\n",
    "\n",
    "if same_name_titles[same_name_titles['title without year' ] == liked_movie]['title'].any():\n",
    "    liked_movie = input('''Multiple titles with that name, year needed\n",
    "    \\nExample: Sabrina (1995)\n",
    "    \\nPlease enter title and year: ''').title()\n",
    "    \n",
    "try:\n",
    "    recommended_movies = movie_recommendations(liked_movie, model, movies, data, user)\n",
    "    print(f\"Top 10 recommended movies based on '{liked_movie}':\")\n",
    "    for movie in recommended_movies:\n",
    "        print(f\"\\n{movie}\")\n",
    "except:\n",
    "    print(f\"{liked_movie} not found\")"
   ]
  },
  {
   "cell_type": "markdown",
   "id": "7adf5790",
   "metadata": {},
   "source": [
    "SVD is a matrix factorization algorithm which attempts to predict missing interactions from the matrix via factorization producing user latent and item/movie latent factors. In this case it is predicting movies based on rating. In this case we use the 100k dataset from Movielens which includes a movie database and ratings database. A reader for the ratings is created followed by the SVD model and 5-fold cross validation. A function takes in the given movie title, model, movie data frame, merged movie and ratings data frame, given user ID, and the number of recommendations in this case 10. Some precautions were accounted for by creating a column in the movies data frame that is only the title. This allows the user to type in the movie title without the year. In the event there are multiple movies with the same title the year is then requested. For each movie in the merged data set the model is used to predict the rating based on the user and movie. The recommended movies are found by taking the first/top 10 sorted predictions by movie rating descending."
   ]
  }
 ],
 "metadata": {
  "kernelspec": {
   "display_name": "Python 3 (ipykernel)",
   "language": "python",
   "name": "python3"
  },
  "language_info": {
   "codemirror_mode": {
    "name": "ipython",
    "version": 3
   },
   "file_extension": ".py",
   "mimetype": "text/x-python",
   "name": "python",
   "nbconvert_exporter": "python",
   "pygments_lexer": "ipython3",
   "version": "3.11.7"
  }
 },
 "nbformat": 4,
 "nbformat_minor": 5
}
